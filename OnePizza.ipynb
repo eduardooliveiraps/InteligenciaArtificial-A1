{
 "cells": [
  {
   "cell_type": "markdown",
   "metadata": {},
   "source": [
    "# One Pizza \n",
    "You are opening a small pizzeria. In fact, your pizzeria is so small that you decided to offer only\n",
    "one type of pizza. \n",
    "Now you need to decide what ingredients to include (peppers? tomatoes?both?).\n",
    "\n",
    "Everyone has their own pizza preferences. Each of your potential clients has some ingredientsthey like, and maybe some ingredients they dislike. \n",
    "Each client will come to your pizzeria if both conditions are true:\n",
    "\n",
    "1. all the ingredients they like are on the pizza\n",
    "2. none of the ingredients they dislike are on the pizza\n",
    "\n",
    "Each client is OK with additional ingredients they neither like or dislike being present on thepizza. \n",
    "\n",
    "Your task is to choose which ingredients to put on your only pizza type, to maximize thenumber of clients that will visit your pizzeria.\n",
    "\n",
    "### Input\n",
    "- The first line contains one integer - the number of potential clients.\n",
    "- The following 2 * C lines describe the clients’ preferences in the following format: 1≤C≤105\n",
    "- First line contains integer, followed by names of ingredients a client likes, delimited by spaces.\n",
    "- Second line contains integer, followed by names of ingredients a client dislikes, delimited by spaces.\n",
    "\n",
    "Each ingredient name consists of between 1 and 15 ASCII characters. Each character is one ofthe lowercase letters (a-z) or a digit (0-9).\n"
   ]
  },
  {
   "cell_type": "markdown",
   "metadata": {},
   "source": [
    "## Formulation of the problem as a search problem\n",
    "\n",
    "### State Representation:\n",
    "The state in this search problem can be represented as a set of ingredients currently chosen for the pizza.\n",
    "\n",
    "#### Initial State:\n",
    "The initial state is an empty set representing no ingredients chosen for the pizza yet.\n",
    "\n",
    "### Objective Test:\n",
    "The objective test checks whether all potential clients are satisfied with the current set of ingredients chosen for the pizza. If all the ingredients liked by a client are present and none of the ingredients disliked by that client are present in the set of chosen ingredients, then the objective is achieved.\n",
    "\n",
    "### Operators:\n",
    "\n",
    "- AddIngredient(ingredient)\n",
    "\n",
    "**Preconditions:**\n",
    "- The ingredient to be added must not already be present in the set of chosen ingredients.\n",
    "\n",
    "**Effects:**\n",
    "- Add the specified ingredient to the set of chosen ingredients.\n",
    "\n",
    "**Costs:**\n",
    "- In this problem, the cost of adding an ingredient can be considered constant (possibly 1 for each ingredient added)."
   ]
  }
 ],
 "metadata": {
  "language_info": {
   "name": "python"
  }
 },
 "nbformat": 4,
 "nbformat_minor": 2
}
