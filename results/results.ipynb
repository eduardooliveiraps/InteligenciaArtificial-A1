{
 "cells": [
  {
   "cell_type": "code",
   "execution_count": 3,
   "metadata": {},
   "outputs": [
    {
     "ename": "ModuleNotFoundError",
     "evalue": "No module named 'pandas'",
     "output_type": "error",
     "traceback": [
      "\u001b[1;31m---------------------------------------------------------------------------\u001b[0m",
      "\u001b[1;31mModuleNotFoundError\u001b[0m                       Traceback (most recent call last)",
      "Cell \u001b[1;32mIn[3], line 1\u001b[0m\n\u001b[1;32m----> 1\u001b[0m \u001b[38;5;28;01mimport\u001b[39;00m \u001b[38;5;21;01mpandas\u001b[39;00m \u001b[38;5;28;01mas\u001b[39;00m \u001b[38;5;21;01mpd\u001b[39;00m\n\u001b[0;32m      2\u001b[0m \u001b[38;5;28;01mimport\u001b[39;00m \u001b[38;5;21;01mmatplotlib\u001b[39;00m\u001b[38;5;21;01m.\u001b[39;00m\u001b[38;5;21;01mpyplot\u001b[39;00m \u001b[38;5;28;01mas\u001b[39;00m \u001b[38;5;21;01mplt\u001b[39;00m\n\u001b[0;32m      4\u001b[0m \u001b[38;5;66;03m# Dados das tabelas para cada algoritmo\u001b[39;00m\n",
      "\u001b[1;31mModuleNotFoundError\u001b[0m: No module named 'pandas'"
     ]
    }
   ],
   "source": [
    "import pandas as pd\n",
    "import matplotlib.pyplot as plt\n",
    "\n",
    "# Dados das tabelas para cada algoritmo\n",
    "algoritmos = ['Hill Climbing', 'Simulated Annealing', 'Tabu Search', 'Genetic Algorithm']\n",
    "ficheiros = ['Example', 'Basic', 'Course', 'Difficult', 'Elaborate']\n",
    "\n",
    "# Dados de exemplo das tabelas (substitua pelos seus dados reais)\n",
    "# A primeira lista representa os Final Scores e a segunda lista representa os tempos de execução em segundos\n",
    "dados_hc = [[1, 5, 3, 1772, 35], [0.01, 0.01, 0.01, 651, 600]]\n",
    "dados_sa = [[2, 5, 5, 1651, 135], [2.95, 2.55, 3.2, 178, 600]]\n",
    "dados_ts = [[2, 5, 5, 1775, 35], [1.16, 1.32, 2.34, 936.18, 600]]\n",
    "dados_ga = [[2, 5, 5, 1362, 386], [0.30, 0.22, 0.30, 82.72, 600]]\n",
    "\n",
    "# Configuração do gráfico\n",
    "largura_barra = 0.2\n",
    "posicoes = range(len(ficheiros))\n",
    "cores = ['b', 'g', 'r', 'y']\n",
    "\n",
    "# Plotagem das barras\n",
    "for i, dados in enumerate([dados_hc, dados_sa, dados_ts, dados_ga]):\n",
    "    plt.bar([p + largura_barra * i for p in posicoes], dados[0], largura_barra, color=cores[i], label=algoritmos[i])\n",
    "\n",
    "# Configuração dos eixos e rótulos\n",
    "plt.xlabel('Ficheiros')\n",
    "plt.ylabel('Final Score')\n",
    "plt.title('Comparação de Resultados por Algoritmo e Ficheiro de Dados')\n",
    "plt.xticks([p + largura_barra * 1.5 for p in posicoes], ficheiros)\n",
    "plt.legend()\n",
    "\n",
    "# Exibição do gráfico\n",
    "plt.tight_layout()\n",
    "plt.show()"
   ]
  },
  {
   "cell_type": "code",
   "execution_count": 4,
   "metadata": {},
   "outputs": [
    {
     "ename": "ModuleNotFoundError",
     "evalue": "No module named 'matplotlib'",
     "output_type": "error",
     "traceback": [
      "\u001b[1;31m---------------------------------------------------------------------------\u001b[0m",
      "\u001b[1;31mModuleNotFoundError\u001b[0m                       Traceback (most recent call last)",
      "Cell \u001b[1;32mIn[4], line 1\u001b[0m\n\u001b[1;32m----> 1\u001b[0m \u001b[38;5;28;01mimport\u001b[39;00m \u001b[38;5;21;01mmatplotlib\u001b[39;00m\u001b[38;5;21;01m.\u001b[39;00m\u001b[38;5;21;01mpyplot\u001b[39;00m \u001b[38;5;28;01mas\u001b[39;00m \u001b[38;5;21;01mplt\u001b[39;00m\n\u001b[0;32m      3\u001b[0m \u001b[38;5;66;03m# Dados dos resultados\u001b[39;00m\n\u001b[0;32m      4\u001b[0m algoritmos \u001b[38;5;241m=\u001b[39m [\u001b[38;5;124m'\u001b[39m\u001b[38;5;124mHill Climbing\u001b[39m\u001b[38;5;124m'\u001b[39m, \u001b[38;5;124m'\u001b[39m\u001b[38;5;124mSimulated Annealing\u001b[39m\u001b[38;5;124m'\u001b[39m, \u001b[38;5;124m'\u001b[39m\u001b[38;5;124mTabu Search\u001b[39m\u001b[38;5;124m'\u001b[39m, \u001b[38;5;124m'\u001b[39m\u001b[38;5;124mGenetic Algorithm\u001b[39m\u001b[38;5;124m'\u001b[39m]\n",
      "\u001b[1;31mModuleNotFoundError\u001b[0m: No module named 'matplotlib'"
     ]
    }
   ],
   "source": [
    "import matplotlib.pyplot as plt\n",
    "\n",
    "# Dados dos resultados\n",
    "algoritmos = ['Hill Climbing', 'Simulated Annealing', 'Tabu Search', 'Genetic Algorithm']\n",
    "parametros_principais = ['Iterações', 'Temperatura', 'Tamanho da Lista Tabu', 'Gerações']\n",
    "valores_parametros = [[10, 20, 30, 40, 50], [100, 75, 50, 25, 1], [10, 20, 30, 40, 50], [100, 200, 300, 400, 500]]\n",
    "dados_final_score = [[90, 100, 80, 70, 85], [10, 1063, 1296, 1395, 1643], [80, 90, 70, 60, 75], [95, 85, 65, 75, 90]]\n",
    "\n",
    "# Configuração do gráfico\n",
    "fig, axs = plt.subplots(2, 2, figsize=(12, 8))  # 2 linhas, 2 colunas\n",
    "\n",
    "for i in range(2):  # Linhas\n",
    "    for j in range(2):  # Colunas\n",
    "        idx = i * 2 + j\n",
    "        axs[i, j].plot(valores_parametros[idx], dados_final_score[idx], marker='o')\n",
    "        axs[i, j].set_title(algoritmos[idx])\n",
    "        axs[i, j].set_xlabel(parametros_principais[idx])\n",
    "        axs[i, j].set_ylabel('Final Score')\n",
    "\n",
    "plt.tight_layout()\n",
    "plt.show()\n"
   ]
  }
 ],
 "metadata": {
  "kernelspec": {
   "display_name": "Python 3",
   "language": "python",
   "name": "python3"
  },
  "language_info": {
   "codemirror_mode": {
    "name": "ipython",
    "version": 3
   },
   "file_extension": ".py",
   "mimetype": "text/x-python",
   "name": "python",
   "nbconvert_exporter": "python",
   "pygments_lexer": "ipython3",
   "version": "3.12.2"
  }
 },
 "nbformat": 4,
 "nbformat_minor": 2
}
